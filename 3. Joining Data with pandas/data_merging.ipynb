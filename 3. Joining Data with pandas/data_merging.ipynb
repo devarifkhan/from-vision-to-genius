{
 "cells": [
  {
   "cell_type": "code",
   "execution_count": 5,
   "id": "51b09dd2",
   "metadata": {},
   "outputs": [],
   "source": [
    "import pandas as pd\n",
    "taxi_owners = pd.read_pickle('taxi_owners.p')\n",
    "taxi_veh= pd.read_pickle('taxi_vehicles.p')"
   ]
  },
  {
   "cell_type": "markdown",
   "id": "07accc36",
   "metadata": {},
   "source": [
    "\n",
    "Merge taxi_owners with taxi_veh on the column vid, and save the result to taxi_own_veh.\n"
   ]
  },
  {
   "cell_type": "code",
   "execution_count": 10,
   "id": "ffaa6b03",
   "metadata": {},
   "outputs": [
    {
     "name": "stdout",
     "output_type": "stream",
     "text": [
      "Index(['rid', 'vid', 'owner_x', 'address', 'zip', 'make', 'model', 'year',\n",
      "       'fuel_type', 'owner_y'],\n",
      "      dtype='object')\n"
     ]
    }
   ],
   "source": [
    "\n",
    "# Merge the taxi_owners and taxi_veh tables\n",
    "taxi_own_veh = taxi_owners.merge(taxi_veh, on=\"vid\")\n",
    "\n",
    "# Print the column names of the taxi_own_veh\n",
    "print(taxi_own_veh.columns)"
   ]
  },
  {
   "cell_type": "markdown",
   "id": "34971446",
   "metadata": {},
   "source": [
    "Set the left and right table suffixes for overlapping columns of the merge to _own and _veh, respectively.\n"
   ]
  },
  {
   "cell_type": "code",
   "execution_count": 11,
   "id": "b8633176",
   "metadata": {},
   "outputs": [
    {
     "name": "stdout",
     "output_type": "stream",
     "text": [
      "Index(['rid', 'vid', 'owner_own', 'address', 'zip', 'make', 'model', 'year',\n",
      "       'fuel_type', 'owner_veh'],\n",
      "      dtype='object')\n"
     ]
    }
   ],
   "source": [
    "# Merge the taxi_owners and taxi_veh tables setting a suffix\n",
    "taxi_own_veh = taxi_owners.merge(taxi_veh, on='vid', suffixes=('_own', '_veh'))\n",
    "\n",
    "# Print the column names of taxi_own_veh\n",
    "print(taxi_own_veh.columns)"
   ]
  },
  {
   "cell_type": "markdown",
   "id": "83622a22",
   "metadata": {},
   "source": [
    "Select the fuel_type column from taxi_own_veh and print the value_counts() to find the most popular fuel_types used.\n"
   ]
  },
  {
   "cell_type": "code",
   "execution_count": 12,
   "id": "bb2f3f64",
   "metadata": {},
   "outputs": [
    {
     "name": "stdout",
     "output_type": "stream",
     "text": [
      "fuel_type\n",
      "HYBRID                    2792\n",
      "GASOLINE                   611\n",
      "FLEX FUEL                   89\n",
      "COMPRESSED NATURAL GAS      27\n",
      "Name: count, dtype: int64\n"
     ]
    }
   ],
   "source": [
    "# Merge the taxi_owners and taxi_veh tables setting a suffix\n",
    "taxi_own_veh = taxi_owners.merge(taxi_veh, on='vid', suffixes=('_own','_veh'))\n",
    "\n",
    "# Print the value_counts to find the most popular fuel_type\n",
    "print(taxi_own_veh['fuel_type'].value_counts())"
   ]
  },
  {
   "cell_type": "code",
   "execution_count": 13,
   "id": "9137594f",
   "metadata": {},
   "outputs": [],
   "source": [
    "wards = pd.read_pickle('ward.p')\n",
    "census= pd.read_pickle('census.p')"
   ]
  },
  {
   "cell_type": "markdown",
   "id": "a95429a1",
   "metadata": {},
   "source": [
    "Merge wards and census on the ward column and save the result to wards_census."
   ]
  },
  {
   "cell_type": "code",
   "execution_count": 15,
   "id": "3b39756f",
   "metadata": {},
   "outputs": [
    {
     "name": "stdout",
     "output_type": "stream",
     "text": [
      "Index(['ward', 'alderman', 'address', 'zip'], dtype='object')\n",
      "Index(['ward', 'pop_2000', 'pop_2010', 'change', 'address', 'zip'], dtype='object')\n",
      "wards_census table shape: (50, 9)\n"
     ]
    }
   ],
   "source": [
    "\n",
    "print(wards.columns)\n",
    "print(census.columns)\n",
    "\n",
    "# Merge the wards and census tables on the ward column\n",
    "wards_census = wards.merge(census, on='ward')\n",
    "\n",
    "# Print the shape of wards_census\n",
    "print('wards_census table shape:', wards_census.shape)"
   ]
  },
  {
   "cell_type": "markdown",
   "id": "b0f689c6",
   "metadata": {},
   "source": [
    "Merge the wards_altered and census tables on the ward column, and notice the difference in returned rows.\n"
   ]
  },
  {
   "cell_type": "code",
   "execution_count": 18,
   "id": "69707e57",
   "metadata": {},
   "outputs": [
    {
     "name": "stdout",
     "output_type": "stream",
     "text": [
      "  ward\n",
      "0    1\n",
      "1    2\n",
      "2    3\n",
      "3    4\n",
      "4    5\n",
      "Index(['ward', 'alderman', 'address_x', 'zip_x', 'pop_2000', 'pop_2010',\n",
      "       'change', 'address_y', 'zip_y'],\n",
      "      dtype='object')\n",
      "wards_altered_census table shape: (50, 9)\n"
     ]
    }
   ],
   "source": [
    "wards_altered=  pd.read_pickle('ward.p')\n",
    "\n",
    "# Print the first few rows of the wards_altered table to view the change \n",
    "print(wards_altered[['ward']].head())\n",
    "\n",
    "# Merge the wards_altered and census tables on the ward column\n",
    "wards_altered_census = wards_altered.merge(census, on=\"ward\")\n",
    "\n",
    "print(wards_altered_census.columns)\n",
    "\n",
    "# Print the shape of wards_altered_census\n",
    "print('wards_altered_census table shape:', wards_altered_census.shape)"
   ]
  },
  {
   "cell_type": "markdown",
   "id": "d126848f",
   "metadata": {},
   "source": [
    "Merge the wards and census_altered tables on the ward column, and notice the difference in returned rows.\n"
   ]
  },
  {
   "cell_type": "code",
   "execution_count": 20,
   "id": "eefa6300",
   "metadata": {},
   "outputs": [
    {
     "name": "stdout",
     "output_type": "stream",
     "text": [
      "  ward\n",
      "0    1\n",
      "1    2\n",
      "2    3\n",
      "3    4\n",
      "4    5\n",
      "Index(['ward', 'alderman', 'address_x', 'zip_x', 'pop_2000', 'pop_2010',\n",
      "       'change', 'address_y', 'zip_y'],\n",
      "      dtype='object')\n",
      "wards_census_altered table shape: (50, 9)\n"
     ]
    }
   ],
   "source": [
    "census_altered = pd.read_pickle('census.p')\n",
    "\n",
    "# Print the first few rows of the census_altered table to view the change \n",
    "print(census_altered[['ward']].head())\n",
    "\n",
    "# Merge the wards and census_altered tables on the ward column\n",
    "wards_census_altered = wards.merge(census_altered, on='ward')\n",
    "\n",
    "print(wards_census_altered.columns)\n",
    "\n",
    "# Print the shape of wards_census_altered\n",
    "print('wards_census_altered table shape:', wards_census_altered.shape)"
   ]
  },
  {
   "cell_type": "markdown",
   "id": "3f78cada",
   "metadata": {},
   "source": [
    "## Understanding Relationships Between Tables\n",
    "\n",
    "In relational databases, understanding the nature of relationships between tables is crucial. Here are the different types of relationships with the e-commerce example:\n",
    "\n",
    "1. **One-to-One Relationship**:\n",
    "    - Each record in the first table corresponds to exactly one record in the second table\n",
    "    - Example: The customer table and cust_tax_info table have a one-to-one relationship\n",
    "    - Each customer has exactly one tax ID, and each tax ID belongs to exactly one customer\n",
    "\n",
    "2. **One-to-Many Relationship**:\n",
    "    - Each record in the first table corresponds to multiple records in the second table\n",
    "    - Example: The customer table and orders table have a one-to-many relationship\n",
    "    - A single customer can place multiple orders, but each order belongs to only one customer\n",
    "\n",
    "3. **Many-to-Many Relationship**:\n",
    "    - Records in the first table can relate to multiple records in the second table, and vice versa\n",
    "    - Example: The orders table and products table have a many-to-many relationship\n",
    "    - One order can contain multiple products, and one product can appear in multiple orders\n",
    "    - This relationship typically requires a junction/bridge table to implement\n",
    "\n",
    "4. **One-to-One or Zero Relationship**:\n",
    "    - Like one-to-one, but allows for records that don't have a match\n",
    "    - Example: Some customers might not have tax information yet\n",
    "\n",
    "Understanding these relationships helps in designing efficient database schemas and performing appropriate joins when querying data."
   ]
  },
  {
   "cell_type": "markdown",
   "id": "33118a56",
   "metadata": {},
   "source": [
    "###  one to one\n",
    "The relationship between products and inventory .\n",
    "The relationship between customer and cust_tax_info.\n",
    "### one to many\n",
    "The relationship between the products and orders.\n",
    "The relationship between the customers and orders."
   ]
  },
  {
   "cell_type": "code",
   "execution_count": 22,
   "id": "996fa2a2",
   "metadata": {},
   "outputs": [],
   "source": [
    "licenses = pd.read_pickle('licenses.p')\n",
    "biz_owners = pd.read_pickle('business_owners.p')"
   ]
  },
  {
   "cell_type": "code",
   "execution_count": 35,
   "id": "f4b98a61",
   "metadata": {},
   "outputs": [
    {
     "name": "stdout",
     "output_type": "stream",
     "text": [
      "Index(['account', 'ward', 'aid', 'business', 'address', 'zip', 'first_name',\n",
      "       'last_name', 'title'],\n",
      "      dtype='object')\n",
      "                    account\n",
      "title                      \n",
      "ASST. SECRETARY         111\n",
      "BENEFICIARY               4\n",
      "CEO                     110\n",
      "DIRECTOR                146\n",
      "EXECUTIVE DIRECTOR       10\n",
      "                 account\n",
      "title                   \n",
      "PRESIDENT           6259\n",
      "SECRETARY           5205\n",
      "SOLE PROPRIETOR     1658\n",
      "OTHER               1200\n",
      "VICE PRESIDENT       970\n"
     ]
    }
   ],
   "source": [
    "# Merge the licenses and biz_owners table on account\n",
    "licenses_owners = licenses.merge(biz_owners, on='account')\n",
    "\n",
    "print(licenses_owners.columns)\n",
    "\n",
    "# Group the results by title then count the number of accounts\n",
    "counted_df = licenses_owners.groupby('title').agg({'account':'count'})\n",
    "\n",
    "print(counted_df.head())\n",
    "\n",
    "# Sort the counted_df in descending order\n",
    "sorted_df = counted_df.sort_values(by='account', ascending=False)\n",
    "\n",
    "# Use .head() method to print the first few rows of sorted_df\n",
    "print(sorted_df.head())"
   ]
  },
  {
   "cell_type": "markdown",
   "id": "716fbe19",
   "metadata": {},
   "source": [
    "Merge the ridership and cal tables together, starting with the ridership table on the left and save the result to the variable ridership_cal. If you code takes too long to run, your merge conditions might be incorrect."
   ]
  },
  {
   "cell_type": "code",
   "execution_count": null,
   "id": "9c626828",
   "metadata": {},
   "outputs": [
    {
     "name": "stdout",
     "output_type": "stream",
     "text": [
      "Index(['station_id', 'year', 'month', 'day', 'rides', 'day_type'], dtype='object')\n"
     ]
    }
   ],
   "source": [
    "ridership= pd.read_pickle('cta_ridership.p')\n",
    "cal= pd.read_pickle('cta_calendar.p')\n",
    "\n",
    "\n",
    "# Merge the ridership and cal tables\n",
    "ridership_cal = ridership.merge(cal, on=['year', 'month', 'day'])\n",
    "\n",
    "\n",
    "print(ridership_cal.columns)"
   ]
  },
  {
   "cell_type": "code",
   "execution_count": 41,
   "id": "5650f71d",
   "metadata": {},
   "outputs": [
    {
     "name": "stdout",
     "output_type": "stream",
     "text": [
      "Index(['station_id', 'year', 'month', 'day', 'rides', 'day_type',\n",
      "       'station_name', 'location'],\n",
      "      dtype='object')\n"
     ]
    }
   ],
   "source": [
    "stations = pd.read_pickle('stations.p')\n",
    "\n",
    "# Merge the ridership, cal, and stations tables\n",
    "ridership_cal_stations = ridership.merge(cal, on=['year','month','day']) \\\n",
    "            \t\t\t\t.merge(stations,on=\"station_id\")\n",
    "                \n",
    "print(ridership_cal_stations.columns)"
   ]
  },
  {
   "cell_type": "markdown",
   "id": "a86f5c4f",
   "metadata": {},
   "source": [
    "Create a variable called filter_criteria to select the appropriate rows from the merged table so that you can sum the rides column.\n"
   ]
  },
  {
   "cell_type": "code",
   "execution_count": 42,
   "id": "10638b60",
   "metadata": {},
   "outputs": [
    {
     "name": "stdout",
     "output_type": "stream",
     "text": [
      "140005\n"
     ]
    }
   ],
   "source": [
    "# Merge the ridership, cal, and stations tables\n",
    "ridership_cal_stations = ridership.merge(cal, on=['year','month','day']) \\\n",
    "\t\t\t\t\t\t\t.merge(stations, on='station_id')\n",
    "\n",
    "# Create a filter to filter ridership_cal_stations\n",
    "filter_criteria = ((ridership_cal_stations['month'] == 7) \n",
    "                   & (ridership_cal_stations['day_type'] == 'Weekday') \n",
    "                   & (ridership_cal_stations['station_name'] == 'Wilson'))\n",
    "\n",
    "# Use .loc and the filter to select for rides\n",
    "print(ridership_cal_stations.loc[filter_criteria, 'rides'].sum())"
   ]
  },
  {
   "cell_type": "markdown",
   "id": "5cc01ef5",
   "metadata": {},
   "source": [
    "Starting with the licenses table, merge to it the zip_demo table on the zip column. Then merge the resulting table to the wards table on the ward column. Save result of the three merged tables to a variable named licenses_zip_ward.\n",
    "Group the results of the three merged tables by the column alderman and find the median income."
   ]
  },
  {
   "cell_type": "code",
   "execution_count": 43,
   "id": "577f0e2d",
   "metadata": {},
   "outputs": [
    {
     "name": "stdout",
     "output_type": "stream",
     "text": [
      "                             income\n",
      "alderman                           \n",
      "Ameya Pawar                 66246.0\n",
      "Anthony A. Beale            38206.0\n",
      "Anthony V. Napolitano       82226.0\n",
      "Ariel E. Reyboras           41307.0\n",
      "Brendan Reilly             110215.0\n",
      "Brian Hopkins               87143.0\n",
      "Carlos Ramirez-Rosa         66246.0\n",
      "Carrie M. Austin            38206.0\n",
      "Chris Taliaferro            55566.0\n",
      "Daniel \"Danny\" Solis        41226.0\n",
      "David H. Moore              33304.0\n",
      "Deborah Mell                66246.0\n",
      "Debra L. Silverstein        50554.0\n",
      "Derrick G. Curtis           65770.0\n",
      "Edward M. Burke             42335.0\n",
      "Emma M. Mitts               36283.0\n",
      "George Cardenas             33959.0\n",
      "Gilbert Villegas            41307.0\n",
      "Gregory I. Mitchell         24941.0\n",
      "Harry Osterman              45442.0\n",
      "Howard B. Brookins, Jr.     33304.0\n",
      "James Cappleman             79565.0\n",
      "Jason C. Ervin              41226.0\n",
      "Joe Moore                   39163.0\n",
      "John S. Arena               70122.0\n",
      "Leslie A. Hairston          28024.0\n",
      "Margaret Laurino            70122.0\n",
      "Marty Quinn                 67045.0\n",
      "Matthew J. O'Shea           59488.0\n",
      "Michael R. Zalewski         42335.0\n",
      "Michael Scott, Jr.          31445.0\n",
      "Michelle A. Harris          32558.0\n",
      "Michelle Smith             100116.0\n",
      "Milagros \"Milly\" Santiago   41307.0\n",
      "Nicholas Sposato            62223.0\n",
      "Pat Dowell                  46340.0\n",
      "Patrick Daley Thompson      41226.0\n",
      "Patrick J. O'Connor         50554.0\n",
      "Proco \"Joe\" Moreno          87143.0\n",
      "Raymond A. Lopez            33959.0\n",
      "Ricardo Munoz               31445.0\n",
      "Roberto Maldonado           68223.0\n",
      "Roderick T. Sawyer          32558.0\n",
      "Scott Waguespack            68223.0\n",
      "Susan Sadlowski Garza       38417.0\n",
      "Tom Tunney                  88708.0\n",
      "Toni L. Foulkes             27573.0\n",
      "Walter Burnett, Jr.         87143.0\n",
      "William D. Burns           107811.0\n",
      "Willie B. Cochran           28024.0\n"
     ]
    }
   ],
   "source": [
    "zip_demo = pd.read_pickle('zip_demo.p')\n",
    "\n",
    "# Merge licenses and zip_demo, on zip; and merge the wards on ward\n",
    "licenses_zip_ward = licenses.merge(zip_demo, on='zip') \\\n",
    "            \t\t\t.merge(wards, on='ward')\n",
    "\n",
    "# Print the results by alderman and show median income\n",
    "print(licenses_zip_ward.groupby('alderman').agg({'income':'median'}))"
   ]
  },
  {
   "cell_type": "markdown",
   "id": "b0986d00",
   "metadata": {},
   "source": [
    "Merge land_use and census on the ward column. Merge the result of this with licenses on the ward column, using the suffix _cen for the left table and _lic for the right table. Save this to the variable land_cen_lic."
   ]
  },
  {
   "cell_type": "code",
   "execution_count": 46,
   "id": "9992116c",
   "metadata": {},
   "outputs": [
    {
     "name": "stdout",
     "output_type": "stream",
     "text": [
      "Index(['ward', 'residential', 'commercial', 'industrial', 'vacant', 'other',\n",
      "       'pop_2000', 'pop_2010', 'change', 'address_cen', 'zip_cen', 'account',\n",
      "       'aid', 'business', 'address_lic', 'zip_lic'],\n",
      "      dtype='object')\n"
     ]
    }
   ],
   "source": [
    "land_use = pd.read_pickle('land_use.p')\n",
    "\n",
    "# Merge land_use and census and merge result with licenses including suffixes\n",
    "land_cen_lic = land_use.merge(census, on='ward') \\\n",
    "                    .merge(licenses, on='ward', suffixes=('_cen','_lic'))\n",
    "                    \n",
    "print(land_cen_lic.columns)"
   ]
  },
  {
   "cell_type": "markdown",
   "id": "72ef3e53",
   "metadata": {},
   "source": [
    "Group land_cen_lic by ward, pop_2010 (the population in 2010), and vacant, then count the number of accounts. Save the results to pop_vac_lic.\n",
    "\n"
   ]
  },
  {
   "cell_type": "code",
   "execution_count": 48,
   "id": "50d2a365",
   "metadata": {},
   "outputs": [
    {
     "name": "stdout",
     "output_type": "stream",
     "text": [
      "  ward  pop_2010  vacant  account\n",
      "0    1     56149       2      253\n",
      "1   10     51535      14      130\n",
      "2   11     51497       5      201\n",
      "3   12     52235       4      255\n",
      "4   13     53722       1      101\n"
     ]
    }
   ],
   "source": [
    "# Merge land_use and census and merge result with licenses including suffixes\n",
    "land_cen_lic = land_use.merge(census, on='ward') \\\n",
    "                    .merge(licenses, on='ward', suffixes=('_cen','_lic'))\n",
    "\n",
    "# Group by ward, pop_2010, and vacant, then count the # of accounts\n",
    "pop_vac_lic = land_cen_lic.groupby(['ward','pop_2010','vacant'], \n",
    "                                   as_index=False).agg({'account':'count'})\n",
    "\n",
    "print(pop_vac_lic.head())"
   ]
  },
  {
   "cell_type": "markdown",
   "id": "ee8682f3",
   "metadata": {},
   "source": [
    "Sort pop_vac_lic by vacant, account, andpop_2010 in descending, ascending, and ascending order respectively. Save it as sorted_pop_vac_lic.\n",
    "\n"
   ]
  },
  {
   "cell_type": "code",
   "execution_count": 49,
   "id": "969e353f",
   "metadata": {},
   "outputs": [
    {
     "name": "stdout",
     "output_type": "stream",
     "text": [
      "   ward  pop_2010  vacant  account\n",
      "47    7     51581      19       80\n",
      "12   20     52372      15      123\n",
      "1    10     51535      14      130\n",
      "16   24     54909      13       98\n",
      "7    16     51954      13      156\n"
     ]
    }
   ],
   "source": [
    "# Merge land_use and census and merge result with licenses including suffixes\n",
    "land_cen_lic = land_use.merge(census, on='ward') \\\n",
    "                    .merge(licenses, on='ward', suffixes=('_cen','_lic'))\n",
    "\n",
    "# Group by ward, pop_2010, and vacant, then count the # of accounts\n",
    "pop_vac_lic = land_cen_lic.groupby(['ward','pop_2010','vacant'], \n",
    "                                   as_index=False).agg({'account':'count'})\n",
    "\n",
    "# Sort pop_vac_lic and print the results\n",
    "sorted_pop_vac_lic = pop_vac_lic.sort_values(['vacant', 'account', 'pop_2010'], \n",
    "                                             ascending=[False, True, True])\n",
    "\n",
    "# Print the top few rows of sorted_pop_vac_lic\n",
    "print(sorted_pop_vac_lic.head())"
   ]
  },
  {
   "cell_type": "markdown",
   "id": "cecacf42",
   "metadata": {},
   "source": [
    "Merge the movies table, as the left table, with the financials table using a left join, and save the result to movies_financials.\n",
    "\n"
   ]
  },
  {
   "cell_type": "code",
   "execution_count": 56,
   "id": "f628bd4c",
   "metadata": {},
   "outputs": [
    {
     "name": "stdout",
     "output_type": "stream",
     "text": [
      "Index(['id', 'title', 'popularity', 'release_date', 'budget', 'revenue'], dtype='object')\n"
     ]
    }
   ],
   "source": [
    "movies = pd.read_pickle('movies.p')\n",
    "financials = pd.read_pickle('financials.p')\n",
    "\n",
    "# Merge movies and financials with a left join\n",
    "movies_financials = movies.merge(financials, on='id', how='left')\n",
    "\n",
    "print(movies_financials.columns)"
   ]
  },
  {
   "cell_type": "markdown",
   "id": "e1e3fb47",
   "metadata": {},
   "source": [
    "Count the number of rows in movies_financials with a null value in the budget column.\n"
   ]
  },
  {
   "cell_type": "code",
   "execution_count": 57,
   "id": "46f0908b",
   "metadata": {},
   "outputs": [
    {
     "name": "stdout",
     "output_type": "stream",
     "text": [
      "1574\n"
     ]
    }
   ],
   "source": [
    "# Merge the movies table with the financials table with a left join\n",
    "movies_financials = movies.merge(financials, on='id', how='left')\n",
    "\n",
    "# Count the number of rows in the budget column that are missing\n",
    "number_of_missing_fin = movies_financials['budget'].isnull().sum()\n",
    "\n",
    "# Print the number of movies missing financials\n",
    "print(number_of_missing_fin)"
   ]
  }
 ],
 "metadata": {
  "kernelspec": {
   "display_name": "ml",
   "language": "python",
   "name": "python3"
  },
  "language_info": {
   "codemirror_mode": {
    "name": "ipython",
    "version": 3
   },
   "file_extension": ".py",
   "mimetype": "text/x-python",
   "name": "python",
   "nbconvert_exporter": "python",
   "pygments_lexer": "ipython3",
   "version": "3.10.16"
  }
 },
 "nbformat": 4,
 "nbformat_minor": 5
}
