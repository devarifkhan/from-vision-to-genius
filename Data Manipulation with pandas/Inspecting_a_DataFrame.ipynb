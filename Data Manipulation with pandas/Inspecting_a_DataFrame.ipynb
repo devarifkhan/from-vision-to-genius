{
 "cells": [
  {
   "cell_type": "markdown",
   "id": "2dec6a87",
   "metadata": {},
   "source": [
    "# Exploring a DataFrame in Python\n",
    "\n",
    "When working with a new DataFrame, it's essential to understand its structure and contents. Here are key methods to explore your data:\n",
    "\n",
    "- **`.head()`** - Displays the first few rows of the DataFrame\n",
    "- **`.info()`** - Shows metadata about each column (data types, non-null counts)\n",
    "- **`.shape`** - Returns a tuple with (rows, columns) counts\n",
    "- **`.describe()`** - Generates descriptive statistics for numerical columns\n",
    "\n",
    "## Example Dataset: Homelessness\n",
    "\n",
    "In this notebook, we'll be working with the `homelessness` DataFrame which contains U.S. state-level homelessness data from 2018:\n",
    "\n",
    "| Column | Description |\n",
    "|--------|-------------|\n",
    "| `individual` | Number of homeless individuals not in families |\n",
    "| `family_members` | Number of homeless individuals in families with children |\n",
    "| `state_pop` | Total state population |\n",
    "\n",
    "*Note: pandas is already imported for use in this notebook.*"
   ]
  },
  {
   "cell_type": "code",
   "execution_count": null,
   "id": "d7537279",
   "metadata": {
    "vscode": {
     "languageId": "plaintext"
    }
   },
   "outputs": [],
   "source": [
    "import pandas as pd\n",
    "\n",
    "homelessness = pd.read_csv('homelessness.csv', index_col=0)"
   ]
  }
 ],
 "metadata": {
  "language_info": {
   "name": "python"
  }
 },
 "nbformat": 4,
 "nbformat_minor": 5
}
