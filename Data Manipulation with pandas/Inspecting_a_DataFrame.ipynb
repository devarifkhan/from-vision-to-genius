{
 "cells": [
  {
   "cell_type": "markdown",
   "id": "2dec6a87",
   "metadata": {},
   "source": [
    "# Exploring a DataFrame in Python\n",
    "\n",
    "When working with a new DataFrame, it's essential to understand its structure and contents. Here are key methods to explore your data:\n",
    "\n",
    "- **`.head()`** - Displays the first few rows of the DataFrame\n",
    "- **`.info()`** - Shows metadata about each column (data types, non-null counts)\n",
    "- **`.shape`** - Returns a tuple with (rows, columns) counts\n",
    "- **`.describe()`** - Generates descriptive statistics for numerical columns\n",
    "\n",
    "## Example Dataset: Homelessness\n",
    "\n",
    "In this notebook, we'll be working with the `homelessness` DataFrame which contains U.S. state-level homelessness data from 2018:\n",
    "\n",
    "| Column | Description |\n",
    "|--------|-------------|\n",
    "| `individual` | Number of homeless individuals not in families |\n",
    "| `family_members` | Number of homeless individuals in families with children |\n",
    "| `state_pop` | Total state population |\n",
    "\n",
    "*Note: pandas is already imported for use in this notebook.*"
   ]
  },
  {
   "cell_type": "code",
   "execution_count": 1,
   "id": "d7537279",
   "metadata": {},
   "outputs": [],
   "source": [
    "import pandas as pd\n",
    "\n",
    "homelessness = pd.read_csv('homelessness.csv', index_col=0)"
   ]
  },
  {
   "cell_type": "code",
   "execution_count": 6,
   "id": "134a695a",
   "metadata": {},
   "outputs": [
    {
     "name": "stdout",
     "output_type": "stream",
     "text": [
      "               region       state  individuals  family_members  state_pop\n",
      "0  East South Central     Alabama       2570.0           864.0    4887681\n",
      "1             Pacific      Alaska       1434.0           582.0     735139\n",
      "2            Mountain     Arizona       7259.0          2606.0    7158024\n",
      "3  West South Central    Arkansas       2280.0           432.0    3009733\n",
      "4             Pacific  California     109008.0         20964.0   39461588\n",
      "<class 'pandas.core.frame.DataFrame'>\n",
      "Index: 51 entries, 0 to 50\n",
      "Data columns (total 5 columns):\n",
      " #   Column          Non-Null Count  Dtype  \n",
      "---  ------          --------------  -----  \n",
      " 0   region          51 non-null     object \n",
      " 1   state           51 non-null     object \n",
      " 2   individuals     51 non-null     float64\n",
      " 3   family_members  51 non-null     float64\n",
      " 4   state_pop       51 non-null     int64  \n",
      "dtypes: float64(2), int64(1), object(2)\n",
      "memory usage: 2.4+ KB\n",
      "None\n",
      "(51, 5)\n",
      "         individuals  family_members     state_pop\n",
      "count      51.000000       51.000000  5.100000e+01\n",
      "mean     7225.784314     3504.882353  6.405637e+06\n",
      "std     15991.025083     7805.411811  7.327258e+06\n",
      "min       434.000000       75.000000  5.776010e+05\n",
      "25%      1446.500000      592.000000  1.777414e+06\n",
      "50%      3082.000000     1482.000000  4.461153e+06\n",
      "75%      6781.500000     3196.000000  7.340946e+06\n",
      "max    109008.000000    52070.000000  3.946159e+07\n"
     ]
    }
   ],
   "source": [
    "# Print the head of the homelessness data\n",
    "print(homelessness.head())\n",
    "\n",
    "# Print information about homelessness\n",
    "print(homelessness.info())\n",
    "\n",
    "# Print the shape of homelessness\n",
    "print(homelessness.shape) \n",
    "\n",
    "# Print a description of homelessness\n",
    "print(homelessness.describe())\n"
   ]
  }
 ],
 "metadata": {
  "kernelspec": {
   "display_name": "ml",
   "language": "python",
   "name": "python3"
  },
  "language_info": {
   "codemirror_mode": {
    "name": "ipython",
    "version": 3
   },
   "file_extension": ".py",
   "mimetype": "text/x-python",
   "name": "python",
   "nbconvert_exporter": "python",
   "pygments_lexer": "ipython3",
   "version": "3.10.16"
  }
 },
 "nbformat": 4,
 "nbformat_minor": 5
}
