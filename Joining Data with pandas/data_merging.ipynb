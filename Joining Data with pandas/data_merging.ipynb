{
 "cells": [
  {
   "cell_type": "code",
   "execution_count": 5,
   "id": "51b09dd2",
   "metadata": {},
   "outputs": [],
   "source": [
    "import pandas as pd\n",
    "taxi_owners = pd.read_pickle('taxi_owners.p')\n",
    "taxi_veh= pd.read_pickle('taxi_vehicles.p')"
   ]
  },
  {
   "cell_type": "markdown",
   "id": "07accc36",
   "metadata": {},
   "source": [
    "\n",
    "Merge taxi_owners with taxi_veh on the column vid, and save the result to taxi_own_veh.\n"
   ]
  },
  {
   "cell_type": "code",
   "execution_count": 10,
   "id": "ffaa6b03",
   "metadata": {},
   "outputs": [
    {
     "name": "stdout",
     "output_type": "stream",
     "text": [
      "Index(['rid', 'vid', 'owner_x', 'address', 'zip', 'make', 'model', 'year',\n",
      "       'fuel_type', 'owner_y'],\n",
      "      dtype='object')\n"
     ]
    }
   ],
   "source": [
    "\n",
    "# Merge the taxi_owners and taxi_veh tables\n",
    "taxi_own_veh = taxi_owners.merge(taxi_veh, on=\"vid\")\n",
    "\n",
    "# Print the column names of the taxi_own_veh\n",
    "print(taxi_own_veh.columns)"
   ]
  },
  {
   "cell_type": "markdown",
   "id": "34971446",
   "metadata": {},
   "source": [
    "Set the left and right table suffixes for overlapping columns of the merge to _own and _veh, respectively.\n"
   ]
  },
  {
   "cell_type": "code",
   "execution_count": 11,
   "id": "b8633176",
   "metadata": {},
   "outputs": [
    {
     "name": "stdout",
     "output_type": "stream",
     "text": [
      "Index(['rid', 'vid', 'owner_own', 'address', 'zip', 'make', 'model', 'year',\n",
      "       'fuel_type', 'owner_veh'],\n",
      "      dtype='object')\n"
     ]
    }
   ],
   "source": [
    "# Merge the taxi_owners and taxi_veh tables setting a suffix\n",
    "taxi_own_veh = taxi_owners.merge(taxi_veh, on='vid', suffixes=('_own', '_veh'))\n",
    "\n",
    "# Print the column names of taxi_own_veh\n",
    "print(taxi_own_veh.columns)"
   ]
  },
  {
   "cell_type": "markdown",
   "id": "83622a22",
   "metadata": {},
   "source": [
    "Select the fuel_type column from taxi_own_veh and print the value_counts() to find the most popular fuel_types used.\n"
   ]
  },
  {
   "cell_type": "code",
   "execution_count": 12,
   "id": "bb2f3f64",
   "metadata": {},
   "outputs": [
    {
     "name": "stdout",
     "output_type": "stream",
     "text": [
      "fuel_type\n",
      "HYBRID                    2792\n",
      "GASOLINE                   611\n",
      "FLEX FUEL                   89\n",
      "COMPRESSED NATURAL GAS      27\n",
      "Name: count, dtype: int64\n"
     ]
    }
   ],
   "source": [
    "# Merge the taxi_owners and taxi_veh tables setting a suffix\n",
    "taxi_own_veh = taxi_owners.merge(taxi_veh, on='vid', suffixes=('_own','_veh'))\n",
    "\n",
    "# Print the value_counts to find the most popular fuel_type\n",
    "print(taxi_own_veh['fuel_type'].value_counts())"
   ]
  },
  {
   "cell_type": "code",
   "execution_count": 13,
   "id": "9137594f",
   "metadata": {},
   "outputs": [],
   "source": [
    "wards = pd.read_pickle('ward.p')\n",
    "census= pd.read_pickle('census.p')"
   ]
  },
  {
   "cell_type": "markdown",
   "id": "a95429a1",
   "metadata": {},
   "source": [
    "Merge wards and census on the ward column and save the result to wards_census."
   ]
  },
  {
   "cell_type": "code",
   "execution_count": 15,
   "id": "3b39756f",
   "metadata": {},
   "outputs": [
    {
     "name": "stdout",
     "output_type": "stream",
     "text": [
      "Index(['ward', 'alderman', 'address', 'zip'], dtype='object')\n",
      "Index(['ward', 'pop_2000', 'pop_2010', 'change', 'address', 'zip'], dtype='object')\n",
      "wards_census table shape: (50, 9)\n"
     ]
    }
   ],
   "source": [
    "\n",
    "print(wards.columns)\n",
    "print(census.columns)\n",
    "\n",
    "# Merge the wards and census tables on the ward column\n",
    "wards_census = wards.merge(census, on='ward')\n",
    "\n",
    "# Print the shape of wards_census\n",
    "print('wards_census table shape:', wards_census.shape)"
   ]
  },
  {
   "cell_type": "markdown",
   "id": "b0f689c6",
   "metadata": {},
   "source": [
    "Merge the wards_altered and census tables on the ward column, and notice the difference in returned rows.\n"
   ]
  },
  {
   "cell_type": "code",
   "execution_count": 18,
   "id": "69707e57",
   "metadata": {},
   "outputs": [
    {
     "name": "stdout",
     "output_type": "stream",
     "text": [
      "  ward\n",
      "0    1\n",
      "1    2\n",
      "2    3\n",
      "3    4\n",
      "4    5\n",
      "Index(['ward', 'alderman', 'address_x', 'zip_x', 'pop_2000', 'pop_2010',\n",
      "       'change', 'address_y', 'zip_y'],\n",
      "      dtype='object')\n",
      "wards_altered_census table shape: (50, 9)\n"
     ]
    }
   ],
   "source": [
    "wards_altered=  pd.read_pickle('ward.p')\n",
    "\n",
    "# Print the first few rows of the wards_altered table to view the change \n",
    "print(wards_altered[['ward']].head())\n",
    "\n",
    "# Merge the wards_altered and census tables on the ward column\n",
    "wards_altered_census = wards_altered.merge(census, on=\"ward\")\n",
    "\n",
    "print(wards_altered_census.columns)\n",
    "\n",
    "# Print the shape of wards_altered_census\n",
    "print('wards_altered_census table shape:', wards_altered_census.shape)"
   ]
  },
  {
   "cell_type": "markdown",
   "id": "d126848f",
   "metadata": {},
   "source": [
    "Merge the wards and census_altered tables on the ward column, and notice the difference in returned rows.\n"
   ]
  },
  {
   "cell_type": "code",
   "execution_count": 20,
   "id": "eefa6300",
   "metadata": {},
   "outputs": [
    {
     "name": "stdout",
     "output_type": "stream",
     "text": [
      "  ward\n",
      "0    1\n",
      "1    2\n",
      "2    3\n",
      "3    4\n",
      "4    5\n",
      "Index(['ward', 'alderman', 'address_x', 'zip_x', 'pop_2000', 'pop_2010',\n",
      "       'change', 'address_y', 'zip_y'],\n",
      "      dtype='object')\n",
      "wards_census_altered table shape: (50, 9)\n"
     ]
    }
   ],
   "source": [
    "census_altered = pd.read_pickle('census.p')\n",
    "\n",
    "# Print the first few rows of the census_altered table to view the change \n",
    "print(census_altered[['ward']].head())\n",
    "\n",
    "# Merge the wards and census_altered tables on the ward column\n",
    "wards_census_altered = wards.merge(census_altered, on='ward')\n",
    "\n",
    "print(wards_census_altered.columns)\n",
    "\n",
    "# Print the shape of wards_census_altered\n",
    "print('wards_census_altered table shape:', wards_census_altered.shape)"
   ]
  },
  {
   "cell_type": "markdown",
   "id": "3f78cada",
   "metadata": {},
   "source": [
    "## Understanding Relationships Between Tables\n",
    "\n",
    "In relational databases, understanding the nature of relationships between tables is crucial. Here are the different types of relationships with the e-commerce example:\n",
    "\n",
    "1. **One-to-One Relationship**:\n",
    "    - Each record in the first table corresponds to exactly one record in the second table\n",
    "    - Example: The customer table and cust_tax_info table have a one-to-one relationship\n",
    "    - Each customer has exactly one tax ID, and each tax ID belongs to exactly one customer\n",
    "\n",
    "2. **One-to-Many Relationship**:\n",
    "    - Each record in the first table corresponds to multiple records in the second table\n",
    "    - Example: The customer table and orders table have a one-to-many relationship\n",
    "    - A single customer can place multiple orders, but each order belongs to only one customer\n",
    "\n",
    "3. **Many-to-Many Relationship**:\n",
    "    - Records in the first table can relate to multiple records in the second table, and vice versa\n",
    "    - Example: The orders table and products table have a many-to-many relationship\n",
    "    - One order can contain multiple products, and one product can appear in multiple orders\n",
    "    - This relationship typically requires a junction/bridge table to implement\n",
    "\n",
    "4. **One-to-One or Zero Relationship**:\n",
    "    - Like one-to-one, but allows for records that don't have a match\n",
    "    - Example: Some customers might not have tax information yet\n",
    "\n",
    "Understanding these relationships helps in designing efficient database schemas and performing appropriate joins when querying data."
   ]
  },
  {
   "cell_type": "markdown",
   "id": "33118a56",
   "metadata": {},
   "source": [
    "###  one to one\n",
    "The relationship between products and inventory .\n",
    "The relationship between customer and cust_tax_info.\n",
    "### one to many\n",
    "The relationship between the products and orders.\n",
    "The relationship between the customers and orders."
   ]
  },
  {
   "cell_type": "code",
   "execution_count": 22,
   "id": "996fa2a2",
   "metadata": {},
   "outputs": [],
   "source": [
    "licenses = pd.read_pickle('licenses.p')\n",
    "biz_owners = pd.read_pickle('business_owners.p')"
   ]
  },
  {
   "cell_type": "code",
   "execution_count": 35,
   "id": "f4b98a61",
   "metadata": {},
   "outputs": [
    {
     "name": "stdout",
     "output_type": "stream",
     "text": [
      "Index(['account', 'ward', 'aid', 'business', 'address', 'zip', 'first_name',\n",
      "       'last_name', 'title'],\n",
      "      dtype='object')\n",
      "                    account\n",
      "title                      \n",
      "ASST. SECRETARY         111\n",
      "BENEFICIARY               4\n",
      "CEO                     110\n",
      "DIRECTOR                146\n",
      "EXECUTIVE DIRECTOR       10\n",
      "                 account\n",
      "title                   \n",
      "PRESIDENT           6259\n",
      "SECRETARY           5205\n",
      "SOLE PROPRIETOR     1658\n",
      "OTHER               1200\n",
      "VICE PRESIDENT       970\n"
     ]
    }
   ],
   "source": [
    "# Merge the licenses and biz_owners table on account\n",
    "licenses_owners = licenses.merge(biz_owners, on='account')\n",
    "\n",
    "print(licenses_owners.columns)\n",
    "\n",
    "# Group the results by title then count the number of accounts\n",
    "counted_df = licenses_owners.groupby('title').agg({'account':'count'})\n",
    "\n",
    "print(counted_df.head())\n",
    "\n",
    "# Sort the counted_df in descending order\n",
    "sorted_df = counted_df.sort_values(by='account', ascending=False)\n",
    "\n",
    "# Use .head() method to print the first few rows of sorted_df\n",
    "print(sorted_df.head())"
   ]
  }
 ],
 "metadata": {
  "kernelspec": {
   "display_name": "ml",
   "language": "python",
   "name": "python3"
  },
  "language_info": {
   "codemirror_mode": {
    "name": "ipython",
    "version": 3
   },
   "file_extension": ".py",
   "mimetype": "text/x-python",
   "name": "python",
   "nbconvert_exporter": "python",
   "pygments_lexer": "ipython3",
   "version": "3.10.16"
  }
 },
 "nbformat": 4,
 "nbformat_minor": 5
}
