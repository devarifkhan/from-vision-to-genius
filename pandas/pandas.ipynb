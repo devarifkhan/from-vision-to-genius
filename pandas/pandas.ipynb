{
 "cells": [
  {
   "cell_type": "markdown",
   "id": "41e35450",
   "metadata": {},
   "source": [
    "## Pandas"
   ]
  },
  {
   "cell_type": "markdown",
   "id": "e1cda6e4",
   "metadata": {},
   "source": [
    "**What is pandas?**\n",
    "Pandas is an open-source data manipulation and analysis library for Python."
   ]
  },
  {
   "cell_type": "markdown",
   "id": "e407eb9c",
   "metadata": {},
   "source": [
    "**How to import Pandas?**"
   ]
  },
  {
   "cell_type": "code",
   "execution_count": null,
   "id": "4c935de5",
   "metadata": {},
   "outputs": [],
   "source": [
    "import pandas as pd"
   ]
  },
  {
   "cell_type": "markdown",
   "id": "61efea53",
   "metadata": {},
   "source": [
    "**What is a DataFrame?**\n",
    "A DataFrame is a two-dimensional, tabular data structure in Pandas."
   ]
  },
  {
   "cell_type": "markdown",
   "id": "9f727da8",
   "metadata": {},
   "source": [
    "**How to create a DataFrame in Pandas?**"
   ]
  },
  {
   "cell_type": "code",
   "execution_count": null,
   "id": "afbebcaf",
   "metadata": {},
   "outputs": [],
   "source": [
    "df = pd.DataFrame({'Column1': [1, 2, 3], 'Column2': ['A', 'B', 'C']})"
   ]
  }
 ],
 "metadata": {
  "kernelspec": {
   "display_name": "ml",
   "language": "python",
   "name": "python3"
  },
  "language_info": {
   "codemirror_mode": {
    "name": "ipython",
    "version": 3
   },
   "file_extension": ".py",
   "mimetype": "text/x-python",
   "name": "python",
   "nbconvert_exporter": "python",
   "pygments_lexer": "ipython3",
   "version": "3.10.16"
  }
 },
 "nbformat": 4,
 "nbformat_minor": 5
}
