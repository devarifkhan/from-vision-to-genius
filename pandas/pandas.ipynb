{
 "cells": [
  {
   "cell_type": "markdown",
   "id": "41e35450",
   "metadata": {},
   "source": [
    "## Pandas"
   ]
  },
  {
   "cell_type": "markdown",
   "id": "e1cda6e4",
   "metadata": {},
   "source": [
    "**What is pandas?**\n",
    "Pandas is an open-source data manipulation and analysis library for Python."
   ]
  },
  {
   "cell_type": "markdown",
   "id": "e407eb9c",
   "metadata": {},
   "source": [
    "**How to import Pandas?**"
   ]
  },
  {
   "cell_type": "code",
   "execution_count": null,
   "id": "4c935de5",
   "metadata": {},
   "outputs": [],
   "source": [
    "import pandas as pd"
   ]
  },
  {
   "cell_type": "markdown",
   "id": "61efea53",
   "metadata": {},
   "source": [
    "**What is a DataFrame?**\n",
    "A DataFrame is a two-dimensional, tabular data structure in Pandas."
   ]
  },
  {
   "cell_type": "markdown",
   "id": "9f727da8",
   "metadata": {},
   "source": [
    "**How to create a DataFrame in Pandas?**"
   ]
  },
  {
   "cell_type": "code",
   "execution_count": null,
   "id": "afbebcaf",
   "metadata": {},
   "outputs": [],
   "source": [
    "df = pd.DataFrame({'Column1': [1, 2, 3], 'Column2': ['A', 'B', 'C']})"
   ]
  },
  {
   "cell_type": "markdown",
   "id": "2e11b59e",
   "metadata": {},
   "source": [
    "**How to select specific columns in a DataFrame?**\n",
    "You can select specific columns using double square brackets: df[['Column1', 'Column2']]"
   ]
  },
  {
   "cell_type": "markdown",
   "id": "93863c64",
   "metadata": {},
   "source": [
    "**What is the purpose of the describe() function in Pandas?**\n",
    "describe() provides summary statistics of numeric columns in a DataFrame."
   ]
  },
  {
   "cell_type": "code",
   "execution_count": null,
   "id": "b9a7f879",
   "metadata": {},
   "outputs": [],
   "source": [
    "df.describe()"
   ]
  },
  {
   "cell_type": "markdown",
   "id": "d7e59a5b",
   "metadata": {},
   "source": [
    "**Explain the concept of broadcasting in Pandas.**\n",
    "Broadcasting allows operations between arrays of different shapes and sizes."
   ]
  },
  {
   "cell_type": "code",
   "execution_count": null,
   "id": "ae964d77",
   "metadata": {},
   "outputs": [],
   "source": [
    "df['Column'] = df['Column'] * 2"
   ]
  },
  {
   "cell_type": "markdown",
   "id": "466ace60",
   "metadata": {},
   "source": [
    "**Explain the purpose of the crosstab() function in Pandas.**\n",
    "crosstab() computes a cross-tabulation of two or more factors."
   ]
  },
  {
   "cell_type": "code",
   "execution_count": null,
   "id": "019bf007",
   "metadata": {},
   "outputs": [],
   "source": [
    "pd.crosstab(df['Factor1'], df['Factor2'])"
   ]
  },
  {
   "cell_type": "markdown",
   "id": "46db7301",
   "metadata": {},
   "source": [
    "**How to handle categorical data in Pandas?**\n",
    "You can use the astype() method to convert a column to a categorical type: df['Category'] = df['Category'].astype('category')"
   ]
  },
  {
   "cell_type": "markdown",
   "id": "5eee8491",
   "metadata": {},
   "source": [
    "**Explain the use of the nunique() function in Pandas.**\n",
    "nunique() returns the number of unique elements in a column."
   ]
  },
  {
   "cell_type": "code",
   "execution_count": null,
   "id": "b61da122",
   "metadata": {},
   "outputs": [],
   "source": [
    "df['Column'].nunique()"
   ]
  },
  {
   "cell_type": "markdown",
   "id": "65ea5327",
   "metadata": {},
   "source": [
    "**What is the use of the nlargest() function in Pandas?**\n",
    "nlargest() returns the first n largest elements from a series or DataFrame."
   ]
  },
  {
   "cell_type": "code",
   "execution_count": null,
   "id": "990acea9",
   "metadata": {},
   "outputs": [],
   "source": [
    "df['Column'].nlargest(5)"
   ]
  },
  {
   "cell_type": "markdown",
   "id": "5958f270",
   "metadata": {},
   "source": [
    "**How to convert a Pandas DataFrame to a NumPy array?**\n",
    "You can use the values attribute: df.values"
   ]
  }
 ],
 "metadata": {
  "kernelspec": {
   "display_name": "ml",
   "language": "python",
   "name": "python3"
  },
  "language_info": {
   "codemirror_mode": {
    "name": "ipython",
    "version": 3
   },
   "file_extension": ".py",
   "mimetype": "text/x-python",
   "name": "python",
   "nbconvert_exporter": "python",
   "pygments_lexer": "ipython3",
   "version": "3.10.16"
  }
 },
 "nbformat": 4,
 "nbformat_minor": 5
}
