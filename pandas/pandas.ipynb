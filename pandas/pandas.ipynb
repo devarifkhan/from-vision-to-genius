{
 "cells": [
  {
   "cell_type": "markdown",
   "id": "41e35450",
   "metadata": {},
   "source": [
    "## Pandas"
   ]
  },
  {
   "cell_type": "markdown",
   "id": "e1cda6e4",
   "metadata": {},
   "source": [
    "### What is pandas?\n",
    "- Pandas is an open-source data manipulation and analysis library for Python.\n",
    "\n"
   ]
  },
  {
   "cell_type": "markdown",
   "id": "e407eb9c",
   "metadata": {},
   "source": [
    "## How to import Pandas?"
   ]
  },
  {
   "cell_type": "code",
   "execution_count": null,
   "id": "4c935de5",
   "metadata": {},
   "outputs": [],
   "source": [
    "import pandas as pd"
   ]
  }
 ],
 "metadata": {
  "kernelspec": {
   "display_name": "ml",
   "language": "python",
   "name": "python3"
  },
  "language_info": {
   "codemirror_mode": {
    "name": "ipython",
    "version": 3
   },
   "file_extension": ".py",
   "mimetype": "text/x-python",
   "name": "python",
   "nbconvert_exporter": "python",
   "pygments_lexer": "ipython3",
   "version": "3.10.16"
  }
 },
 "nbformat": 4,
 "nbformat_minor": 5
}
