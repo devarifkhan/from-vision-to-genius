{
 "cells": [
  {
   "cell_type": "markdown",
   "id": "41e35450",
   "metadata": {},
   "source": [
    "## Pandas"
   ]
  },
  {
   "cell_type": "markdown",
   "id": "e1cda6e4",
   "metadata": {},
   "source": [
    "**What is pandas?**\n",
    "Pandas is an open-source data manipulation and analysis library for Python."
   ]
  },
  {
   "cell_type": "markdown",
   "id": "e407eb9c",
   "metadata": {},
   "source": [
    "**How to import Pandas?**"
   ]
  },
  {
   "cell_type": "code",
   "execution_count": null,
   "id": "4c935de5",
   "metadata": {},
   "outputs": [],
   "source": [
    "import pandas as pd"
   ]
  },
  {
   "cell_type": "markdown",
   "id": "61efea53",
   "metadata": {},
   "source": [
    "**What is a DataFrame?**\n",
    "A DataFrame is a two-dimensional, tabular data structure in Pandas."
   ]
  },
  {
   "cell_type": "markdown",
   "id": "9f727da8",
   "metadata": {},
   "source": [
    "**How to create a DataFrame in Pandas?**"
   ]
  },
  {
   "cell_type": "code",
   "execution_count": null,
   "id": "afbebcaf",
   "metadata": {},
   "outputs": [],
   "source": [
    "df = pd.DataFrame({'Column1': [1, 2, 3], 'Column2': ['A', 'B', 'C']})"
   ]
  },
  {
   "cell_type": "markdown",
   "id": "2e11b59e",
   "metadata": {},
   "source": [
    "**How to select specific columns in a DataFrame?**\n",
    "You can select specific columns using double square brackets: df[['Column1', 'Column2']]"
   ]
  },
  {
   "cell_type": "markdown",
   "id": "93863c64",
   "metadata": {},
   "source": [
    "**What is the purpose of the describe() function in Pandas?**\n",
    "describe() provides summary statistics of numeric columns in a DataFrame."
   ]
  },
  {
   "cell_type": "code",
   "execution_count": null,
   "id": "b9a7f879",
   "metadata": {},
   "outputs": [],
   "source": [
    "df.describe()"
   ]
  },
  {
   "cell_type": "markdown",
   "id": "d7e59a5b",
   "metadata": {},
   "source": [
    "**Explain the concept of broadcasting in Pandas.**\n",
    "Broadcasting allows operations between arrays of different shapes and sizes."
   ]
  },
  {
   "cell_type": "code",
   "execution_count": null,
   "id": "ae964d77",
   "metadata": {},
   "outputs": [],
   "source": [
    "df['Column'] = df['Column'] * 2"
   ]
  },
  {
   "cell_type": "markdown",
   "id": "466ace60",
   "metadata": {},
   "source": [
    "**Explain the purpose of the crosstab() function in Pandas.**\n",
    "crosstab() computes a cross-tabulation of two or more factors."
   ]
  },
  {
   "cell_type": "code",
   "execution_count": null,
   "id": "019bf007",
   "metadata": {},
   "outputs": [],
   "source": [
    "pd.crosstab(df['Factor1'], df['Factor2'])"
   ]
  },
  {
   "cell_type": "markdown",
   "id": "46db7301",
   "metadata": {},
   "source": [
    "**How to handle categorical data in Pandas?**\n",
    "You can use the astype() method to convert a column to a categorical type:"
   ]
  },
  {
   "cell_type": "code",
   "execution_count": null,
   "id": "01eebee0",
   "metadata": {},
   "outputs": [],
   "source": [
    "df['Category'] = df['Category'].astype('category')"
   ]
  },
  {
   "cell_type": "markdown",
   "id": "5eee8491",
   "metadata": {},
   "source": [
    "**Explain the use of the nunique() function in Pandas.**\n",
    "nunique() returns the number of unique elements in a column."
   ]
  },
  {
   "cell_type": "code",
   "execution_count": null,
   "id": "b61da122",
   "metadata": {},
   "outputs": [],
   "source": [
    "df['Column'].nunique()"
   ]
  },
  {
   "cell_type": "markdown",
   "id": "65ea5327",
   "metadata": {},
   "source": [
    "**What is the use of the nlargest() function in Pandas?**\n",
    "nlargest() returns the first n largest elements from a series or DataFrame."
   ]
  },
  {
   "cell_type": "code",
   "execution_count": null,
   "id": "990acea9",
   "metadata": {},
   "outputs": [],
   "source": [
    "df['Column'].nlargest(5)"
   ]
  },
  {
   "cell_type": "markdown",
   "id": "5958f270",
   "metadata": {},
   "source": [
    "**How to convert a Pandas DataFrame to a NumPy array?**\n",
    "You can use the values attribute: df.values"
   ]
  },
  {
   "cell_type": "markdown",
   "id": "930634f1",
   "metadata": {},
   "source": [
    "**What is the difference between loc and iloc in Pandas?**\n",
    "loc is label-based indexing, while iloc is integer-based indexing."
   ]
  },
  {
   "cell_type": "markdown",
   "id": "143c2904",
   "metadata": {},
   "source": [
    "**How to drop a column in a DataFrame?**\n",
    "You can drop a column using the drop() method: df.drop('ColumnName', axis=1, inplace=True)"
   ]
  },
  {
   "cell_type": "markdown",
   "id": "8ca0e160",
   "metadata": {},
   "source": [
    "**Explain the use of groupby() in Pandas.**\n",
    "groupby() is used to group DataFrame by a column and perform aggregate functions."
   ]
  },
  {
   "cell_type": "code",
   "execution_count": null,
   "id": "5807b7f0",
   "metadata": {},
   "outputs": [],
   "source": [
    "df.groupby('Column').mean()"
   ]
  },
  {
   "cell_type": "markdown",
   "id": "b3f625e8",
   "metadata": {},
   "source": [
    "**What is the purpose of the apply() function in Pandas?**\n",
    "apply() is used to apply a function along the axis of a DataFrame."
   ]
  },
  {
   "cell_type": "code",
   "execution_count": null,
   "id": "0d4ee7b4",
   "metadata": {},
   "outputs": [],
   "source": [
    "df['Column'].apply(lambda x: x*2)"
   ]
  },
  {
   "cell_type": "markdown",
   "id": "37e49ccf",
   "metadata": {},
   "source": [
    "**How to filter rows in a DataFrame based on a condition?**\n",
    "You can use boolean indexing to filter rows based on a condition: df[df['Column'] > 10]"
   ]
  },
  {
   "cell_type": "markdown",
   "id": "332a9289",
   "metadata": {},
   "source": [
    "**What is the purpose of the pivot_table() function?** pivot_table() is used to create a spreadsheet-style pivot table as a DataFrame."
   ]
  },
  {
   "cell_type": "code",
   "execution_count": null,
   "id": "995ac66e",
   "metadata": {},
   "outputs": [],
   "source": [
    "pd.pivot_table(df, values='Value', index='Index', columns='Column', aggfunc=np.sum)"
   ]
  },
  {
   "cell_type": "markdown",
   "id": "f3ef726e",
   "metadata": {},
   "source": [
    "**How to handle duplicate values in a DataFrame?**\n",
    "You can use drop_duplicates() to remove duplicate rows: df.drop_duplicates()"
   ]
  },
  {
   "cell_type": "markdown",
   "id": "a2737d12",
   "metadata": {},
   "source": [
    "**Explain the purpose of the iterrows() function in Pandas.** iterrows() is used to iterate over DataFrame rows as (index, Series) pairs."
   ]
  },
  {
   "cell_type": "code",
   "execution_count": null,
   "id": "ec182c69",
   "metadata": {},
   "outputs": [],
   "source": [
    "for index, row in df.iterrows(): print(index, row['Column'])"
   ]
  },
  {
   "cell_type": "markdown",
   "id": "10f79727",
   "metadata": {},
   "source": [
    "**Explain the use of melt() function in Pandas.** melt() is used to reshape or transform data by unpivoting it."
   ]
  },
  {
   "cell_type": "code",
   "execution_count": null,
   "id": "69952d26",
   "metadata": {},
   "outputs": [],
   "source": [
    "pd.melt(df, id_vars=['ID'], value_vars=['Var1', 'Var2'])"
   ]
  },
  {
   "cell_type": "markdown",
   "id": "57675219",
   "metadata": {},
   "source": [
    "**What is the purpose of the to_csv() method in Pandas?**\n",
    "to_csv() is used to write a DataFrame to a CSV file."
   ]
  },
  {
   "cell_type": "code",
   "execution_count": null,
   "id": "62febd1b",
   "metadata": {},
   "outputs": [],
   "source": [
    "df.to_csv('output.csv', index=False)"
   ]
  },
  {
   "cell_type": "markdown",
   "id": "2e6e726e",
   "metadata": {},
   "source": [
    "**How to calculate correlation between columns in a DataFrame?** You can use the corr() method: df.corr()"
   ]
  },
  {
   "cell_type": "markdown",
   "id": "ad8efb43",
   "metadata": {},
   "source": [
    "**Explain the purpose of the get_dummies() function in Pandas.** get_dummies() is used for one-hot encoding categorical variables."
   ]
  },
  {
   "cell_type": "code",
   "execution_count": null,
   "id": "8803850f",
   "metadata": {},
   "outputs": [],
   "source": [
    "pd.get_dummies(df['Category'])"
   ]
  },
  {
   "cell_type": "markdown",
   "id": "c6ef1ec3",
   "metadata": {},
   "source": [
    "**Explain the use of merge() in Pandas.**\n",
    "merge() is used to combine two DataFrames based on a common column."
   ]
  },
  {
   "cell_type": "code",
   "execution_count": null,
   "id": "efcb21d6",
   "metadata": {},
   "outputs": [],
   "source": [
    "pd.merge(df1, df2, on='common_column')"
   ]
  },
  {
   "cell_type": "markdown",
   "id": "2efbc4c0",
   "metadata": {},
   "source": [
    "**How to handle missing values in a DataFrame?** You can use methods like dropna() to remove missing values or fillna() to fill them with a specific value."
   ]
  },
  {
   "cell_type": "code",
   "execution_count": null,
   "id": "a53b6eb7",
   "metadata": {},
   "outputs": [],
   "source": [
    "df.dropna() or df.fillna(value)"
   ]
  },
  {
   "cell_type": "markdown",
   "id": "4cfba1b8",
   "metadata": {},
   "source": [
    "**How to rename columns in a DataFrame?**\n",
    "You can use the rename() method to rename columns: "
   ]
  },
  {
   "cell_type": "code",
   "execution_count": null,
   "id": "3202a04f",
   "metadata": {},
   "outputs": [],
   "source": [
    "df.rename(columns={'OldName': 'NewName'})"
   ]
  },
  {
   "cell_type": "markdown",
   "id": "118ae6f4",
   "metadata": {},
   "source": [
    "**Explain the concept of MultiIndex in Pandas.**\n",
    "MultiIndex allows you to have multiple index levels on an axis."
   ]
  },
  {
   "cell_type": "markdown",
   "id": "037fa430",
   "metadata": {},
   "source": [
    "**How to handle time series data in Pandas?** Pandas provides the Timestamp type and functions like resample() for time series analysis."
   ]
  },
  {
   "cell_type": "code",
   "execution_count": null,
   "id": "42fe001d",
   "metadata": {},
   "outputs": [],
   "source": [
    "df['Date'] = pd.to_datetime(df['Date'])"
   ]
  },
  {
   "cell_type": "markdown",
   "id": "a979b219",
   "metadata": {},
   "source": [
    "**Explain the purpose of the cut() function in Pandas.**\n",
    "cut() is used to segment and sort data values into bins."
   ]
  },
  {
   "cell_type": "code",
   "execution_count": null,
   "id": "5c9e3245",
   "metadata": {},
   "outputs": [],
   "source": [
    "pd.cut(df['Values'], bins=[0, 10, 20, 30], labels=['<10', '10-20', '20-30'])"
   ]
  }
 ],
 "metadata": {
  "kernelspec": {
   "display_name": "ml",
   "language": "python",
   "name": "python3"
  },
  "language_info": {
   "codemirror_mode": {
    "name": "ipython",
    "version": 3
   },
   "file_extension": ".py",
   "mimetype": "text/x-python",
   "name": "python",
   "nbconvert_exporter": "python",
   "pygments_lexer": "ipython3",
   "version": "3.10.16"
  }
 },
 "nbformat": 4,
 "nbformat_minor": 5
}
